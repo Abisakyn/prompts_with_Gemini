{
  "nbformat": 4,
  "nbformat_minor": 0,
  "metadata": {
    "colab": {
      "provenance": [],
      "toc_visible": true,
      "authorship_tag": "ABX9TyPvJkTEToinie/jVv1mQuhH",
      "include_colab_link": true
    },
    "kernelspec": {
      "name": "python3",
      "display_name": "Python 3"
    },
    "language_info": {
      "name": "python"
    }
  },
  "cells": [
    {
      "cell_type": "markdown",
      "metadata": {
        "id": "view-in-github",
        "colab_type": "text"
      },
      "source": [
        "<a href=\"https://colab.research.google.com/github/Abisakyn/prompts_with_Gemini/blob/main/Prompts_with_Gemini.ipynb\" target=\"_parent\"><img src=\"https://colab.research.google.com/assets/colab-badge.svg\" alt=\"Open In Colab\"/></a>"
      ]
    },
    {
      "cell_type": "code",
      "execution_count": 1,
      "metadata": {
        "colab": {
          "base_uri": "https://localhost:8080/"
        },
        "id": "rCECg16_VJ-C",
        "outputId": "3d54cfd5-9a5f-432a-9360-aa94da41fdcd"
      },
      "outputs": [
        {
          "output_type": "stream",
          "name": "stdout",
          "text": [
            "\u001b[?25l     \u001b[90m━━━━━━━━━━━━━━━━━━━━━━━━━━━━━━━━━━━━━━━━\u001b[0m \u001b[32m0.0/164.2 kB\u001b[0m \u001b[31m?\u001b[0m eta \u001b[36m-:--:--\u001b[0m\r\u001b[2K     \u001b[91m━━━━━━━━━━━━━━━━━━━━━━━━━━━\u001b[0m\u001b[90m╺\u001b[0m\u001b[90m━━━━━━━━━━━━\u001b[0m \u001b[32m112.6/164.2 kB\u001b[0m \u001b[31m3.2 MB/s\u001b[0m eta \u001b[36m0:00:01\u001b[0m\r\u001b[2K     \u001b[90m━━━━━━━━━━━━━━━━━━━━━━━━━━━━━━━━━━━━━━━━\u001b[0m \u001b[32m164.2/164.2 kB\u001b[0m \u001b[31m3.1 MB/s\u001b[0m eta \u001b[36m0:00:00\u001b[0m\n",
            "\u001b[?25h\u001b[?25l     \u001b[90m━━━━━━━━━━━━━━━━━━━━━━━━━━━━━━━━━━━━━━━━\u001b[0m \u001b[32m0.0/718.3 kB\u001b[0m \u001b[31m?\u001b[0m eta \u001b[36m-:--:--\u001b[0m\r\u001b[2K     \u001b[90m━━━━━━━━━━━━━━━━━━━━━━━━━━━━━━━━━━━━━━━━\u001b[0m \u001b[32m718.3/718.3 kB\u001b[0m \u001b[31m25.9 MB/s\u001b[0m eta \u001b[36m0:00:00\u001b[0m\n",
            "\u001b[?25h"
          ]
        }
      ],
      "source": [
        "!pip install -q -U google-generativeai\n"
      ]
    },
    {
      "cell_type": "markdown",
      "source": [
        "Import the gemini python SDK"
      ],
      "metadata": {
        "id": "o55opvxlXG7M"
      }
    },
    {
      "cell_type": "code",
      "source": [
        "# prompt: Import the gemini python SDK\n",
        "\n",
        "import google.generativeai as genai\n"
      ],
      "metadata": {
        "id": "oZtLBIklXN9r"
      },
      "execution_count": 2,
      "outputs": []
    },
    {
      "cell_type": "markdown",
      "source": [
        "setup your api key"
      ],
      "metadata": {
        "id": "Q1Peim-kXfQc"
      }
    },
    {
      "cell_type": "code",
      "source": [
        "from google.colab import userdata\n",
        "GOOGLE_API_KEY=userdata.get('GOOGLE_API_KEY')\n",
        "genai.configure(api_key=GOOGLE_API_KEY)\n"
      ],
      "metadata": {
        "id": "s2QVXLjZXj3s"
      },
      "execution_count": 3,
      "outputs": []
    },
    {
      "cell_type": "markdown",
      "source": [
        "set version and model"
      ],
      "metadata": {
        "id": "MRdgE8CNYN3i"
      }
    },
    {
      "cell_type": "code",
      "source": [
        "\n",
        "version = \"models/gemini-1.5-flash\"\n",
        "model = genai.GenerativeModel(version)\n"
      ],
      "metadata": {
        "id": "3sQ7pg1VYRXC"
      },
      "execution_count": 4,
      "outputs": []
    },
    {
      "cell_type": "markdown",
      "source": [
        "prompt"
      ],
      "metadata": {
        "id": "C8FmozUhY_uM"
      }
    },
    {
      "cell_type": "code",
      "source": [
        "prompt=\"\"\"Create a free verse about pasta linguine.Make it descriptive about shape, taste and texture of pasta.Make the poem atleast five lines long\n",
        "\"\"\""
      ],
      "metadata": {
        "id": "sYROsnJSZBNg"
      },
      "execution_count": 5,
      "outputs": []
    },
    {
      "cell_type": "markdown",
      "source": [
        "Response"
      ],
      "metadata": {
        "id": "jP4_bIQsZzOa"
      }
    },
    {
      "cell_type": "code",
      "source": [
        "response = model.generate_content(prompt)\n",
        "print(response.text)"
      ],
      "metadata": {
        "colab": {
          "base_uri": "https://localhost:8080/",
          "height": 238
        },
        "id": "eDrEcJDMaJ7E",
        "outputId": "95aafbd1-4fd1-4be8-860f-d806e31adff0"
      },
      "execution_count": 8,
      "outputs": [
        {
          "output_type": "stream",
          "name": "stdout",
          "text": [
            "Long, thin ribbons,\n",
            "a silken dance on the fork,\n",
            "each strand a whisper of wheat,\n",
            "yielding to the touch,\n",
            "a canvas for sauces bold.\n",
            "\n",
            "The taste, a gentle echo\n",
            "of sunshine and earth,\n",
            "a whisper of warmth\n",
            "on the tongue,\n",
            "a comfort in every bite. \n",
            "\n"
          ]
        }
      ]
    },
    {
      "cell_type": "markdown",
      "source": [
        "More prompt"
      ],
      "metadata": {
        "id": "TWx9_Fu4dQ-R"
      }
    },
    {
      "cell_type": "code",
      "source": [
        "prompt=\"\"\"help me choose a fun way to spend my friday night as a CS majaor in Nairobi University in one sentence\"\"\"\n",
        "response = model.generate_content(prompt)\n",
        "print(response.text)\n"
      ],
      "metadata": {
        "colab": {
          "base_uri": "https://localhost:8080/",
          "height": 74
        },
        "id": "LaOkPi9NdV5-",
        "outputId": "54476e68-192c-4929-f435-1d30fc0d3a8a"
      },
      "execution_count": 11,
      "outputs": [
        {
          "output_type": "stream",
          "name": "stdout",
          "text": [
            "Grab some friends, head to the rooftop of your dorm, watch the Nairobi sunset, and debate the latest tech news while enjoying some Nyama Choma. \n",
            "\n"
          ]
        }
      ]
    },
    {
      "cell_type": "code",
      "source": [
        "output=[]\n",
        "for i in range(10):\n",
        "  response = model.generate_content(prompt)\n",
        "  output.append(response.text)\n",
        "for index, sentence in enumerate(output):\n",
        "  print(f\"{index+1}: {sentence}\")\n"
      ],
      "metadata": {
        "colab": {
          "base_uri": "https://localhost:8080/",
          "height": 406
        },
        "id": "sXg87oOntuEO",
        "outputId": "29895a10-c4b5-43f3-c99a-c42838063179"
      },
      "execution_count": 14,
      "outputs": [
        {
          "output_type": "stream",
          "name": "stdout",
          "text": [
            "1: Grab some friends, head to a local coding meet-up, and flex your coding muscles while enjoying the vibrant Nairobi nightlife! \n",
            "\n",
            "2: Grab a group of fellow CS majors and head to a coding competition or a hackathon for a night of fun, competitive coding, and networking. \n",
            "\n",
            "3: Grab some friends, head to a local bar with live music, and discuss your latest coding project over a few Tuskers. \n",
            "\n",
            "4: Grab some friends, head to the rooftop of your dorm, order some takeout, and have a stargazing session while discussing the latest tech trends. \n",
            "\n",
            "5: Catch a movie at the IMAX in Westgate Mall with friends and grab some delicious street food on the way home. \n",
            "\n",
            "6: Grab some friends, head to a local bar with good vibes and cheap beer for a relaxed Friday night catch-up. \n",
            "\n",
            "7: Join your fellow CS majors for a game night at a local bar, fueled by pizza and lively debate about the latest tech trends. \n",
            "\n",
            "8: Grab some friends, head to a local bar with live music, and enjoy the vibrant nightlife scene in Nairobi while discussing your favorite programming languages. \n",
            "\n",
            "9: Grab some mates, head to a local pub with a projector for a movie night, and debate the latest tech advancements over a few Tuskers! 🍻 \n",
            "\n",
            "10: Grab some friends, head to a local pub with live music, and enjoy some affordable drinks and good conversation after a long week of coding. \n",
            "\n"
          ]
        }
      ]
    },
    {
      "cell_type": "markdown",
      "source": [
        "Function Calling"
      ],
      "metadata": {
        "id": "0AanYqPpw3Yc"
      }
    },
    {
      "cell_type": "code",
      "source": [
        "def get_full_menu(service: str) -> list[str]:\n",
        "    \"\"\"List all items on the menu of Gemini's Trattoria for the given service.\n",
        "\n",
        "    Args:\n",
        "        service: The type of service, either lunch or dinner.\n",
        "\n",
        "    Returns:\n",
        "        A list of all menu items for the given service.\n",
        "    \"\"\"\n",
        "    return [\"rice\", \"beans\", \"chapati\", \"pizza\", \"vegetarian pizza\"]\n",
        "\n",
        "def find_vegetarian_items(items: list[str]) -> list[str]:\n",
        "    \"\"\"List dishes in items that are vegetarian.\n",
        "\n",
        "    Args:\n",
        "        items: A list of menu dishes.\n",
        "\n",
        "    Returns:\n",
        "        A list of vegetarian dishes from the input items.\n",
        "    \"\"\"\n",
        "    vegetarian_items = [\"vegetarian pizza\"]\n",
        "    return [item for item in items if item in vegetarian_items]\n",
        "\n",
        "def enter_restaurant() -> bool:\n",
        "    \"\"\"Simulate entering Gemini Trattoria, moving the creaky door.\n",
        "\n",
        "    Returns:\n",
        "        True indicating successful entry.\n",
        "    \"\"\"\n",
        "    print(\"You enter Gemini Trattoria, moving the creaky door.\")\n",
        "    return True\n",
        "\n",
        "functions = [enter_restaurant, get_full_menu, find_vegetarian_items]\n"
      ],
      "metadata": {
        "id": "VvD0hsNIw573"
      },
      "execution_count": 21,
      "outputs": []
    },
    {
      "cell_type": "code",
      "source": [
        "models = genai.GenerativeModel(\n",
        "    model_name=\"models/gemini-1.5-flash\",\n",
        "    tools=functions\n",
        ")\n",
        "\n",
        "chat = model.start_chat(enable_automatic_function_calling=True)"
      ],
      "metadata": {
        "id": "2XOfXGaZ0LLD"
      },
      "execution_count": 23,
      "outputs": []
    },
    {
      "cell_type": "code",
      "source": [
        "response=chat.send_message(\"what items are on Trattoria's dinner menu\")\n",
        "print(response.text)"
      ],
      "metadata": {
        "colab": {
          "base_uri": "https://localhost:8080/",
          "height": 111
        },
        "id": "x1HVEUuR1NpY",
        "outputId": "2ef02753-776b-40c1-946d-0ceb59d401db"
      },
      "execution_count": 24,
      "outputs": [
        {
          "output_type": "stream",
          "name": "stdout",
          "text": [
            "Please provide me with the name of the specific Trattoria you are interested in. There are many Trattorias around the world, and their menus can vary greatly. \n",
            "\n",
            "Once you tell me the name of the Trattoria, I can try to find their menu online. \n",
            "\n"
          ]
        }
      ]
    }
  ]
}