{
  "nbformat": 4,
  "nbformat_minor": 0,
  "metadata": {
    "colab": {
      "provenance": [],
      "toc_visible": true,
      "authorship_tag": "ABX9TyMGbitMxn/Ism3qBvwesHvA",
      "include_colab_link": true
    },
    "kernelspec": {
      "name": "python3",
      "display_name": "Python 3"
    },
    "language_info": {
      "name": "python"
    }
  },
  "cells": [
    {
      "cell_type": "markdown",
      "metadata": {
        "id": "view-in-github",
        "colab_type": "text"
      },
      "source": [
        "<a href=\"https://colab.research.google.com/github/Abisakyn/prompts_with_Gemini/blob/main/Prompts_with_Gemini.ipynb\" target=\"_parent\"><img src=\"https://colab.research.google.com/assets/colab-badge.svg\" alt=\"Open In Colab\"/></a>"
      ]
    },
    {
      "cell_type": "code",
      "execution_count": 1,
      "metadata": {
        "colab": {
          "base_uri": "https://localhost:8080/"
        },
        "id": "rCECg16_VJ-C",
        "outputId": "3d54cfd5-9a5f-432a-9360-aa94da41fdcd"
      },
      "outputs": [
        {
          "output_type": "stream",
          "name": "stdout",
          "text": [
            "\u001b[?25l     \u001b[90m━━━━━━━━━━━━━━━━━━━━━━━━━━━━━━━━━━━━━━━━\u001b[0m \u001b[32m0.0/164.2 kB\u001b[0m \u001b[31m?\u001b[0m eta \u001b[36m-:--:--\u001b[0m\r\u001b[2K     \u001b[91m━━━━━━━━━━━━━━━━━━━━━━━━━━━\u001b[0m\u001b[90m╺\u001b[0m\u001b[90m━━━━━━━━━━━━\u001b[0m \u001b[32m112.6/164.2 kB\u001b[0m \u001b[31m3.2 MB/s\u001b[0m eta \u001b[36m0:00:01\u001b[0m\r\u001b[2K     \u001b[90m━━━━━━━━━━━━━━━━━━━━━━━━━━━━━━━━━━━━━━━━\u001b[0m \u001b[32m164.2/164.2 kB\u001b[0m \u001b[31m3.1 MB/s\u001b[0m eta \u001b[36m0:00:00\u001b[0m\n",
            "\u001b[?25h\u001b[?25l     \u001b[90m━━━━━━━━━━━━━━━━━━━━━━━━━━━━━━━━━━━━━━━━\u001b[0m \u001b[32m0.0/718.3 kB\u001b[0m \u001b[31m?\u001b[0m eta \u001b[36m-:--:--\u001b[0m\r\u001b[2K     \u001b[90m━━━━━━━━━━━━━━━━━━━━━━━━━━━━━━━━━━━━━━━━\u001b[0m \u001b[32m718.3/718.3 kB\u001b[0m \u001b[31m25.9 MB/s\u001b[0m eta \u001b[36m0:00:00\u001b[0m\n",
            "\u001b[?25h"
          ]
        }
      ],
      "source": [
        "!pip install -q -U google-generativeai\n"
      ]
    },
    {
      "cell_type": "markdown",
      "source": [
        "Import the gemini python SDK"
      ],
      "metadata": {
        "id": "o55opvxlXG7M"
      }
    },
    {
      "cell_type": "code",
      "source": [
        "# prompt: Import the gemini python SDK\n",
        "\n",
        "import google.generativeai as genai\n"
      ],
      "metadata": {
        "id": "oZtLBIklXN9r"
      },
      "execution_count": 2,
      "outputs": []
    },
    {
      "cell_type": "markdown",
      "source": [
        "setup your api key"
      ],
      "metadata": {
        "id": "Q1Peim-kXfQc"
      }
    },
    {
      "cell_type": "code",
      "source": [
        "from google.colab import userdata\n",
        "GOOGLE_API_KEY=userdata.get('GOOGLE_API_KEY')\n",
        "genai.configure(api_key=GOOGLE_API_KEY)\n"
      ],
      "metadata": {
        "id": "s2QVXLjZXj3s"
      },
      "execution_count": 3,
      "outputs": []
    },
    {
      "cell_type": "markdown",
      "source": [
        "set version and model"
      ],
      "metadata": {
        "id": "MRdgE8CNYN3i"
      }
    },
    {
      "cell_type": "code",
      "source": [
        "\n",
        "version = \"models/gemini-1.5-flash\"\n",
        "model = genai.GenerativeModel(version)\n"
      ],
      "metadata": {
        "id": "3sQ7pg1VYRXC"
      },
      "execution_count": 4,
      "outputs": []
    },
    {
      "cell_type": "markdown",
      "source": [
        "prompt"
      ],
      "metadata": {
        "id": "C8FmozUhY_uM"
      }
    },
    {
      "cell_type": "code",
      "source": [
        "prompt=\"\"\"Create a free verse about pasta linguine.Make it descriptive about shape, taste and texture of pasta.Make the poem atleast five lines long\n",
        "\"\"\""
      ],
      "metadata": {
        "id": "sYROsnJSZBNg"
      },
      "execution_count": 5,
      "outputs": []
    },
    {
      "cell_type": "markdown",
      "source": [
        "Response"
      ],
      "metadata": {
        "id": "jP4_bIQsZzOa"
      }
    },
    {
      "cell_type": "code",
      "source": [
        "response = model.generate_content(prompt)\n",
        "print(response.text)"
      ],
      "metadata": {
        "colab": {
          "base_uri": "https://localhost:8080/",
          "height": 225
        },
        "id": "eDrEcJDMaJ7E",
        "outputId": "95aafbd1-4fd1-4be8-860f-d806e31adff0"
      },
      "execution_count": 8,
      "outputs": [
        {
          "output_type": "stream",
          "name": "stdout",
          "text": [
            "Long, thin ribbons,\n",
            "a silken dance on the fork,\n",
            "each strand a whisper of wheat,\n",
            "yielding to the touch,\n",
            "a canvas for sauces bold.\n",
            "\n",
            "The taste, a gentle echo\n",
            "of sunshine and earth,\n",
            "a whisper of warmth\n",
            "on the tongue,\n",
            "a comfort in every bite. \n",
            "\n"
          ]
        }
      ]
    },
    {
      "cell_type": "markdown",
      "source": [
        "file uploading images"
      ],
      "metadata": {
        "id": "TWx9_Fu4dQ-R"
      }
    },
    {
      "cell_type": "code",
      "source": [],
      "metadata": {
        "id": "LaOkPi9NdV5-"
      },
      "execution_count": null,
      "outputs": []
    }
  ]
}